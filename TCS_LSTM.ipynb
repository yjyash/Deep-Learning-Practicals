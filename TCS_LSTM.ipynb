{
 "cells": [
  {
   "cell_type": "code",
   "execution_count": 71,
   "id": "8d0ef511-6f0b-4f12-935f-cdf1ecac4cc9",
   "metadata": {},
   "outputs": [],
   "source": [
    "import pandas as pd\n",
    "import numpy as np\n",
    "import seaborn as sns\n",
    "from sklearn.preprocessing import StandardScaler, LabelEncoder, OneHotEncoder, MinMaxScaler\n",
    "from sklearn.feature_extraction.text import TfidfVectorizer\n",
    "from keras.models import Sequential\n",
    "from keras.layers import Dense,SimpleRNN,LSTM\n",
    "from sklearn.model_selection import train_test_split\n",
    "from datetime import date, timedelta,datetime\n",
    "import matplotlib.pyplot as plt\n",
    "import yfinance as yf"
   ]
  },
  {
   "cell_type": "code",
   "execution_count": 72,
   "id": "614e4a9b-125a-447e-b390-0baca7b4fc32",
   "metadata": {},
   "outputs": [],
   "source": [
    "current_date = datetime.now()\n",
    "c_date = current_date.date()"
   ]
  },
  {
   "cell_type": "code",
   "execution_count": 73,
   "id": "98f5cdbb-5ec5-4682-9a0d-16ae4ad99d11",
   "metadata": {},
   "outputs": [
    {
     "name": "stderr",
     "output_type": "stream",
     "text": [
      "[*********************100%***********************]  1 of 1 completed\n"
     ]
    }
   ],
   "source": [
    "data = yf.download(\"TCS.NS\", start='1996-01-01', end=c_date,interval='1d',actions=False)"
   ]
  },
  {
   "cell_type": "code",
   "execution_count": 74,
   "id": "9d79d78d-5962-4638-ae2a-e5e36810c863",
   "metadata": {},
   "outputs": [
    {
     "data": {
      "text/plain": [
       "Open         5509\n",
       "High         5509\n",
       "Low          5509\n",
       "Close        5509\n",
       "Adj Close    5509\n",
       "Volume       5509\n",
       "dtype: int64"
      ]
     },
     "execution_count": 74,
     "metadata": {},
     "output_type": "execute_result"
    }
   ],
   "source": [
    "data.count()"
   ]
  },
  {
   "cell_type": "code",
   "execution_count": 75,
   "id": "84ed8315-014e-464d-8348-553cabb3861e",
   "metadata": {},
   "outputs": [
    {
     "data": {
      "text/html": [
       "<div>\n",
       "<style scoped>\n",
       "    .dataframe tbody tr th:only-of-type {\n",
       "        vertical-align: middle;\n",
       "    }\n",
       "\n",
       "    .dataframe tbody tr th {\n",
       "        vertical-align: top;\n",
       "    }\n",
       "\n",
       "    .dataframe thead th {\n",
       "        text-align: right;\n",
       "    }\n",
       "</style>\n",
       "<table border=\"1\" class=\"dataframe\">\n",
       "  <thead>\n",
       "    <tr style=\"text-align: right;\">\n",
       "      <th></th>\n",
       "      <th>Open</th>\n",
       "      <th>High</th>\n",
       "      <th>Low</th>\n",
       "      <th>Close</th>\n",
       "      <th>Adj Close</th>\n",
       "      <th>Volume</th>\n",
       "    </tr>\n",
       "    <tr>\n",
       "      <th>Date</th>\n",
       "      <th></th>\n",
       "      <th></th>\n",
       "      <th></th>\n",
       "      <th></th>\n",
       "      <th></th>\n",
       "      <th></th>\n",
       "    </tr>\n",
       "  </thead>\n",
       "  <tbody>\n",
       "    <tr>\n",
       "      <th>2002-08-12</th>\n",
       "      <td>38.724998</td>\n",
       "      <td>40.000000</td>\n",
       "      <td>38.724998</td>\n",
       "      <td>39.700001</td>\n",
       "      <td>29.462488</td>\n",
       "      <td>212976</td>\n",
       "    </tr>\n",
       "    <tr>\n",
       "      <th>2002-08-13</th>\n",
       "      <td>39.750000</td>\n",
       "      <td>40.387501</td>\n",
       "      <td>38.875000</td>\n",
       "      <td>39.162498</td>\n",
       "      <td>29.063591</td>\n",
       "      <td>153576</td>\n",
       "    </tr>\n",
       "    <tr>\n",
       "      <th>2002-08-14</th>\n",
       "      <td>39.250000</td>\n",
       "      <td>39.250000</td>\n",
       "      <td>35.724998</td>\n",
       "      <td>36.462502</td>\n",
       "      <td>27.059856</td>\n",
       "      <td>822776</td>\n",
       "    </tr>\n",
       "    <tr>\n",
       "      <th>2002-08-15</th>\n",
       "      <td>36.462502</td>\n",
       "      <td>36.462502</td>\n",
       "      <td>36.462502</td>\n",
       "      <td>36.462502</td>\n",
       "      <td>27.059856</td>\n",
       "      <td>0</td>\n",
       "    </tr>\n",
       "    <tr>\n",
       "      <th>2002-08-16</th>\n",
       "      <td>36.275002</td>\n",
       "      <td>38.000000</td>\n",
       "      <td>35.750000</td>\n",
       "      <td>36.375000</td>\n",
       "      <td>26.994913</td>\n",
       "      <td>811856</td>\n",
       "    </tr>\n",
       "  </tbody>\n",
       "</table>\n",
       "</div>"
      ],
      "text/plain": [
       "                 Open       High        Low      Close  Adj Close  Volume\n",
       "Date                                                                     \n",
       "2002-08-12  38.724998  40.000000  38.724998  39.700001  29.462488  212976\n",
       "2002-08-13  39.750000  40.387501  38.875000  39.162498  29.063591  153576\n",
       "2002-08-14  39.250000  39.250000  35.724998  36.462502  27.059856  822776\n",
       "2002-08-15  36.462502  36.462502  36.462502  36.462502  27.059856       0\n",
       "2002-08-16  36.275002  38.000000  35.750000  36.375000  26.994913  811856"
      ]
     },
     "execution_count": 75,
     "metadata": {},
     "output_type": "execute_result"
    }
   ],
   "source": [
    "data.head()\n"
   ]
  },
  {
   "cell_type": "code",
   "execution_count": 76,
   "id": "dab2e961-4ee2-44af-b6d2-792413757ab7",
   "metadata": {},
   "outputs": [],
   "source": [
    "df = data[['Close']]"
   ]
  },
  {
   "cell_type": "code",
   "execution_count": 77,
   "id": "1ea379c6-5feb-4b96-ac79-30508ce2da6e",
   "metadata": {},
   "outputs": [
    {
     "data": {
      "text/html": [
       "<div>\n",
       "<style scoped>\n",
       "    .dataframe tbody tr th:only-of-type {\n",
       "        vertical-align: middle;\n",
       "    }\n",
       "\n",
       "    .dataframe tbody tr th {\n",
       "        vertical-align: top;\n",
       "    }\n",
       "\n",
       "    .dataframe thead th {\n",
       "        text-align: right;\n",
       "    }\n",
       "</style>\n",
       "<table border=\"1\" class=\"dataframe\">\n",
       "  <thead>\n",
       "    <tr style=\"text-align: right;\">\n",
       "      <th></th>\n",
       "      <th>Close</th>\n",
       "    </tr>\n",
       "    <tr>\n",
       "      <th>Date</th>\n",
       "      <th></th>\n",
       "    </tr>\n",
       "  </thead>\n",
       "  <tbody>\n",
       "    <tr>\n",
       "      <th>2002-08-12</th>\n",
       "      <td>39.700001</td>\n",
       "    </tr>\n",
       "    <tr>\n",
       "      <th>2002-08-13</th>\n",
       "      <td>39.162498</td>\n",
       "    </tr>\n",
       "    <tr>\n",
       "      <th>2002-08-14</th>\n",
       "      <td>36.462502</td>\n",
       "    </tr>\n",
       "    <tr>\n",
       "      <th>2002-08-15</th>\n",
       "      <td>36.462502</td>\n",
       "    </tr>\n",
       "    <tr>\n",
       "      <th>2002-08-16</th>\n",
       "      <td>36.375000</td>\n",
       "    </tr>\n",
       "  </tbody>\n",
       "</table>\n",
       "</div>"
      ],
      "text/plain": [
       "                Close\n",
       "Date                 \n",
       "2002-08-12  39.700001\n",
       "2002-08-13  39.162498\n",
       "2002-08-14  36.462502\n",
       "2002-08-15  36.462502\n",
       "2002-08-16  36.375000"
      ]
     },
     "execution_count": 77,
     "metadata": {},
     "output_type": "execute_result"
    }
   ],
   "source": [
    "df.head()"
   ]
  },
  {
   "cell_type": "code",
   "execution_count": 78,
   "id": "d2ff912d-b3df-42c1-bd36-1377dfcc016a",
   "metadata": {},
   "outputs": [
    {
     "data": {
      "text/plain": [
       "(5509, 1)"
      ]
     },
     "execution_count": 78,
     "metadata": {},
     "output_type": "execute_result"
    }
   ],
   "source": [
    "df.shape"
   ]
  },
  {
   "cell_type": "code",
   "execution_count": 79,
   "id": "78860fef-4682-4321-b3f8-60087490d21d",
   "metadata": {},
   "outputs": [
    {
     "data": {
      "text/plain": [
       "pandas.core.frame.DataFrame"
      ]
     },
     "execution_count": 79,
     "metadata": {},
     "output_type": "execute_result"
    }
   ],
   "source": [
    "type(df)"
   ]
  },
  {
   "cell_type": "code",
   "execution_count": 80,
   "id": "9418b7be-1e22-43ef-b764-03b869ee6c82",
   "metadata": {},
   "outputs": [],
   "source": [
    "mm = MinMaxScaler(feature_range=(0, 1))\n",
    "df = mm.fit_transform(df)\n"
   ]
  },
  {
   "cell_type": "code",
   "execution_count": 81,
   "id": "8a5d4456-dafd-41af-ab2a-abd518651d26",
   "metadata": {},
   "outputs": [
    {
     "data": {
      "text/plain": [
       "array([[9.35091885e-04],\n",
       "       [8.16130049e-04],\n",
       "       [2.18557536e-04],\n",
       "       ...,\n",
       "       [9.01566416e-01],\n",
       "       [9.04675967e-01],\n",
       "       [8.95114861e-01]])"
      ]
     },
     "execution_count": 81,
     "metadata": {},
     "output_type": "execute_result"
    }
   ],
   "source": [
    "df"
   ]
  },
  {
   "cell_type": "code",
   "execution_count": 82,
   "id": "448090a7-4799-4740-801d-e3b202264193",
   "metadata": {},
   "outputs": [
    {
     "data": {
      "text/plain": [
       "numpy.ndarray"
      ]
     },
     "execution_count": 82,
     "metadata": {},
     "output_type": "execute_result"
    }
   ],
   "source": [
    "type(df)"
   ]
  },
  {
   "cell_type": "code",
   "execution_count": 83,
   "id": "3a0f4f0d-54e0-40d2-9d01-69e86a00e639",
   "metadata": {},
   "outputs": [],
   "source": [
    " len_train = int(len(df)*0.8)\n",
    " len_test = len(df) - len_train"
   ]
  },
  {
   "cell_type": "code",
   "execution_count": 84,
   "id": "e86711ac-4b6b-4032-abcb-a8d0d7eefce6",
   "metadata": {},
   "outputs": [],
   "source": [
    "x_train = df[:len_train]\n",
    "x_test = df[len_train:]"
   ]
  },
  {
   "cell_type": "code",
   "execution_count": 85,
   "id": "0b7454a2-f9e4-458f-aa61-ff6a042642b7",
   "metadata": {},
   "outputs": [],
   "source": [
    "xnew_train =[]\n",
    "ynew_train=[]\n",
    "\n",
    "for i in range(60,len(x_train)):\n",
    "    z=[]\n",
    "    for j in range(i-60,i):\n",
    "        z.append(x_train[j])\n",
    "    xnew_train.append(z)\n",
    "    ynew_train.append(x_train[i])"
   ]
  },
  {
   "cell_type": "code",
   "execution_count": 86,
   "id": "a45fd500-4ab5-47db-9cfa-86cf65690143",
   "metadata": {},
   "outputs": [],
   "source": [
    "xnew_test =[]\n",
    "ynew_test=[]\n",
    "for i in range(60,len(x_test)):\n",
    "    z=[]\n",
    "    for j in range(i-60,i):\n",
    "        z.append(x_test[j])\n",
    "    xnew_test.append(z)\n",
    "    ynew_test.append(x_test[i])"
   ]
  },
  {
   "cell_type": "code",
   "execution_count": 87,
   "id": "fb95bb38-0893-4d86-b9bd-287b96568ea6",
   "metadata": {},
   "outputs": [],
   "source": [
    "xnew_train = np.array(xnew_train)\n",
    "ynew_train = np.array(ynew_train)\n",
    "xnew_test = np.array(xnew_test)\n",
    "ynew_test = np.array(ynew_test)"
   ]
  },
  {
   "cell_type": "code",
   "execution_count": 88,
   "id": "86049b42-76b2-4e7b-a293-a86dd83bd051",
   "metadata": {},
   "outputs": [
    {
     "name": "stderr",
     "output_type": "stream",
     "text": [
      "C:\\Users\\yjyas\\AppData\\Roaming\\Python\\Python312\\site-packages\\keras\\src\\layers\\rnn\\rnn.py:204: UserWarning: Do not pass an `input_shape`/`input_dim` argument to a layer. When using Sequential models, prefer using an `Input(shape)` object as the first layer in the model instead.\n",
      "  super().__init__(**kwargs)\n"
     ]
    }
   ],
   "source": [
    "model = Sequential()\n",
    "\n",
    "model.add(LSTM(60, return_sequences =True, input_shape=(xnew_train.shape[1],1)))\n",
    "# model.add(Dropout(0.2))\n",
    "model.add(LSTM(120, return_sequences =True))\n",
    "# model.add(Dropout(0.2))\n",
    "model.add(SimpleRNN(80))\n",
    "model.add(Dense(25))\n",
    "model.add(Dense(1))"
   ]
  },
  {
   "cell_type": "code",
   "execution_count": 89,
   "id": "cd76acc9-1457-4706-a918-ff0a661893e5",
   "metadata": {},
   "outputs": [],
   "source": [
    "model.compile(loss='mean_squared_error', optimizer='adam')"
   ]
  },
  {
   "cell_type": "code",
   "execution_count": 90,
   "id": "0946fdfa-2868-4fc5-a207-de07f806a205",
   "metadata": {},
   "outputs": [
    {
     "name": "stdout",
     "output_type": "stream",
     "text": [
      "Epoch 1/5\n",
      "\u001b[1m136/136\u001b[0m \u001b[32m━━━━━━━━━━━━━━━━━━━━\u001b[0m\u001b[37m\u001b[0m \u001b[1m16s\u001b[0m 70ms/step - loss: 0.0049\n",
      "Epoch 2/5\n",
      "\u001b[1m136/136\u001b[0m \u001b[32m━━━━━━━━━━━━━━━━━━━━\u001b[0m\u001b[37m\u001b[0m \u001b[1m10s\u001b[0m 70ms/step - loss: 9.3281e-05\n",
      "Epoch 3/5\n",
      "\u001b[1m136/136\u001b[0m \u001b[32m━━━━━━━━━━━━━━━━━━━━\u001b[0m\u001b[37m\u001b[0m \u001b[1m10s\u001b[0m 71ms/step - loss: 8.2475e-05\n",
      "Epoch 4/5\n",
      "\u001b[1m136/136\u001b[0m \u001b[32m━━━━━━━━━━━━━━━━━━━━\u001b[0m\u001b[37m\u001b[0m \u001b[1m10s\u001b[0m 71ms/step - loss: 8.2310e-05\n",
      "Epoch 5/5\n",
      "\u001b[1m136/136\u001b[0m \u001b[32m━━━━━━━━━━━━━━━━━━━━\u001b[0m\u001b[37m\u001b[0m \u001b[1m10s\u001b[0m 76ms/step - loss: 8.5956e-05\n"
     ]
    },
    {
     "data": {
      "text/plain": [
       "<keras.src.callbacks.history.History at 0x1ea7f4bcfb0>"
      ]
     },
     "execution_count": 90,
     "metadata": {},
     "output_type": "execute_result"
    }
   ],
   "source": [
    "model.fit(xnew_train,ynew_train,epochs=5)"
   ]
  },
  {
   "cell_type": "code",
   "execution_count": 24,
   "id": "471c48b1-bd34-4753-b9c9-88c16f7e422c",
   "metadata": {},
   "outputs": [
    {
     "data": {
      "text/plain": [
       "(4347, 60, 1)"
      ]
     },
     "execution_count": 24,
     "metadata": {},
     "output_type": "execute_result"
    }
   ],
   "source": [
    "xnew_train.shape"
   ]
  },
  {
   "cell_type": "code",
   "execution_count": 25,
   "id": "9167b60c-3f2c-402b-ae2f-35472cbb1951",
   "metadata": {},
   "outputs": [
    {
     "data": {
      "text/plain": [
       "(4347, 1)"
      ]
     },
     "execution_count": 25,
     "metadata": {},
     "output_type": "execute_result"
    }
   ],
   "source": [
    "ynew_train.shape"
   ]
  },
  {
   "cell_type": "code",
   "execution_count": 91,
   "id": "64942238-a219-4400-a388-84f0fa7fbaea",
   "metadata": {},
   "outputs": [
    {
     "name": "stdout",
     "output_type": "stream",
     "text": [
      "\u001b[1m33/33\u001b[0m \u001b[32m━━━━━━━━━━━━━━━━━━━━\u001b[0m\u001b[37m\u001b[0m \u001b[1m3s\u001b[0m 83ms/step\n"
     ]
    }
   ],
   "source": [
    "pred = model.predict([xnew_test])"
   ]
  },
  {
   "cell_type": "code",
   "execution_count": 93,
   "id": "057360b7-009c-44de-bd3d-054582659ddd",
   "metadata": {},
   "outputs": [],
   "source": [
    "from sklearn.metrics import mean_squared_error\n",
    "rmse = np.sqrt(mean_squared_error(ynew_test, pred))\n"
   ]
  },
  {
   "cell_type": "code",
   "execution_count": 94,
   "id": "140ed6a2-1cd8-485c-bad3-955e2df664e8",
   "metadata": {},
   "outputs": [
    {
     "name": "stdout",
     "output_type": "stream",
     "text": [
      "0.023227131186346374\n"
     ]
    }
   ],
   "source": [
    "print(rmse)"
   ]
  },
  {
   "cell_type": "code",
   "execution_count": 95,
   "id": "60175d02-fd0c-4797-b6a0-cf2878fea71b",
   "metadata": {},
   "outputs": [],
   "source": [
    "pred1 = np.array(pred)\n",
    "ynew_test1 = np.array(ynew_test)"
   ]
  },
  {
   "cell_type": "code",
   "execution_count": 96,
   "id": "135e7eb6-650f-4f1b-8375-8eaf8cb8acf6",
   "metadata": {},
   "outputs": [
    {
     "data": {
      "image/png": "[encoded data removed]",
      "text/plain": [
       "<Figure size 640x480 with 1 Axes>"
      ]
     },
     "metadata": {},
     "output_type": "display_data"
    }
   ],
   "source": [
    "import matplotlib.pyplot as plt\n",
    "\n",
    "plt.plot(pred1.flatten(), label='Predicted')  # Plot pred as a line\n",
    "plt.plot(ynew_test1.flatten(), label='Actual') # Plot ynew_test as a line\n",
    "\n",
    "plt.xlabel('Time')  # Assuming your x-axis represents time\n",
    "plt.ylabel('Stock Price') # Assuming your data is about stock prices\n",
    "plt.title('Predicted vs. Actual Stock Price')\n",
    "plt.legend()  # Show the legend\n",
    "plt.show()"
   ]
  },
  {
   "cell_type": "code",
   "execution_count": 97,
   "id": "302bdbb8-fb86-4005-9627-2348a1f76682",
   "metadata": {},
   "outputs": [],
   "source": [
    "m = mm.inverse_transform(pred)\n",
    "n = mm.inverse_transform(ynew_test)"
   ]
  },
  {
   "cell_type": "code",
   "execution_count": 98,
   "id": "678e4784-19e5-4af4-8264-43bbeecf649c",
   "metadata": {},
   "outputs": [
    {
     "name": "stdout",
     "output_type": "stream",
     "text": [
      "104.94661618080072\n"
     ]
    }
   ],
   "source": [
    "from sklearn.metrics import mean_squared_error\n",
    "rmse = np.sqrt(mean_squared_error(m, n))\n",
    "print(rmse)"
   ]
  },
  {
   "cell_type": "code",
   "execution_count": 25,
   "id": "8b8bf2a6-497e-4d20-8d3f-dd73a312a4a6",
   "metadata": {},
   "outputs": [
    {
     "data": {
      "image/png": "[encoded data removed]",
      "text/plain": [
       "<Figure size 640x480 with 1 Axes>"
      ]
     },
     "metadata": {},
     "output_type": "display_data"
    }
   ],
   "source": [
    "plt.plot(m.flatten(), label='Predicted')  # Plot pred as a line\n",
    "plt.plot(n.flatten(), label='Actual') # Plot ynew_test as a line\n",
    "\n",
    "plt.xlabel('Time')  # Assuming your x-axis represents time\n",
    "plt.ylabel('Stock Price') # Assuming your data is about stock prices\n",
    "plt.title('Predicted vs. Actual Stock Price')\n",
    "plt.legend()  # Show the legend\n",
    "plt.show()"
   ]
  },
  {
   "cell_type": "code",
   "execution_count": 48,
   "id": "787599ce-1ff8-41a2-8c7c-1435ee36f5b4",
   "metadata": {},
   "outputs": [],
   "source": [
    "# current_date = datetime.now()\n",
    "# c_date = current_date.date()\n",
    "\n",
    "c_date = date(2024,10,18)"
   ]
  },
  {
   "cell_type": "code",
   "execution_count": 49,
   "id": "739e68f0-528a-42da-8bc1-bf256f8a9fe6",
   "metadata": {},
   "outputs": [],
   "source": [
    "date_90_days_back = c_date - timedelta(days=90)\n",
    "d_90 = date_90_days_back"
   ]
  },
  {
   "cell_type": "code",
   "execution_count": null,
   "id": "8735afa5-99c0-4641-aca0-a8de4499d86a",
   "metadata": {},
   "outputs": [],
   "source": []
  },
  {
   "cell_type": "code",
   "execution_count": 50,
   "id": "78271660-e819-4dca-8502-e436e9f83195",
   "metadata": {},
   "outputs": [
    {
     "name": "stdout",
     "output_type": "stream",
     "text": [
      "2024-10-18--------------2024-07-20\n"
     ]
    }
   ],
   "source": [
    "print(c_date, d_90,sep=\"--------------\")"
   ]
  },
  {
   "cell_type": "code",
   "execution_count": 51,
   "id": "58a434f1-cd5e-4bcf-a6f4-df11b6196946",
   "metadata": {},
   "outputs": [
    {
     "name": "stderr",
     "output_type": "stream",
     "text": [
      "[*********************100%***********************]  1 of 1 completed\n"
     ]
    }
   ],
   "source": [
    "newdata = yf.download(\"TCS.NS\", start=d_90, end=c_date,interval='1d',actions=False)"
   ]
  },
  {
   "cell_type": "code",
   "execution_count": 52,
   "id": "4aeb4344-2a07-4276-b10a-7015bb424bab",
   "metadata": {},
   "outputs": [
    {
     "data": {
      "text/plain": [
       "Open         62\n",
       "High         62\n",
       "Low          62\n",
       "Close        62\n",
       "Adj Close    62\n",
       "Volume       62\n",
       "dtype: int64"
      ]
     },
     "execution_count": 52,
     "metadata": {},
     "output_type": "execute_result"
    }
   ],
   "source": [
    "newdata.count()"
   ]
  },
  {
   "cell_type": "code",
   "execution_count": 53,
   "id": "d9bf0f80-26bb-4f06-8b55-0c1c4ae3f741",
   "metadata": {},
   "outputs": [],
   "source": [
    "ndf = newdata[['Close']]"
   ]
  },
  {
   "cell_type": "code",
   "execution_count": 57,
   "id": "d4dc2c0a-82ba-48fb-a2b0-f3f28b33af3b",
   "metadata": {},
   "outputs": [],
   "source": [
    "ndf = mm.transform(ndf)"
   ]
  },
  {
   "cell_type": "code",
   "execution_count": 58,
   "id": "48f77c50-43bb-48b3-a927-ea17ca2dafda",
   "metadata": {},
   "outputs": [
    {
     "data": {
      "text/plain": [
       "numpy.ndarray"
      ]
     },
     "execution_count": 58,
     "metadata": {},
     "output_type": "execute_result"
    }
   ],
   "source": [
    "type(ndf)"
   ]
  },
  {
   "cell_type": "code",
   "execution_count": 59,
   "id": "b150e2d3-7de6-4ce5-9ff9-12302ba34867",
   "metadata": {
    "scrolled": true
   },
   "outputs": [
    {
     "data": {
      "text/plain": [
       "array([[0.94103947],\n",
       "       [0.94435932],\n",
       "       [0.94522246],\n",
       "       [0.94881896],\n",
       "       [0.96328247],\n",
       "       [0.96178854],\n",
       "       [0.95830269],\n",
       "       [0.96272916],\n",
       "       [0.96532971],\n",
       "       [0.94008771],\n",
       "       [0.91175832],\n",
       "       [0.91533278],\n",
       "       [0.92180648],\n",
       "       [0.91563148],\n",
       "       [0.92806989],\n",
       "       [0.92074407],\n",
       "       [0.92103185],\n",
       "       [0.9427879 ],\n",
       "       [0.96952372],\n",
       "       [0.98589063],\n",
       "       [0.99326066],\n",
       "       [0.99950202],\n",
       "       [0.98854651],\n",
       "       [0.98011407],\n",
       "       [0.98864615],\n",
       "       [0.98747307],\n",
       "       [0.98944283],\n",
       "       [0.99071544],\n",
       "       [1.        ],\n",
       "       [0.99276268],\n",
       "       [0.99083723],\n",
       "       [0.98351141],\n",
       "       [0.98278108],\n",
       "       [0.97853163],\n",
       "       [0.97693806],\n",
       "       [0.98984128],\n",
       "       [0.98353356],\n",
       "       [0.99202133],\n",
       "       [0.9931058 ],\n",
       "       [0.9910364 ],\n",
       "       [0.98935432],\n",
       "       [0.95405324],\n",
       "       [0.94298707],\n",
       "       [0.94049718],\n",
       "       [0.9368675 ],\n",
       "       [0.93748716],\n",
       "       [0.93825077],\n",
       "       [0.94217926],\n",
       "       [0.94576474],\n",
       "       [0.9368675 ],\n",
       "       [0.94116115],\n",
       "       [0.92895519],\n",
       "       [0.93327099],\n",
       "       [0.93783028],\n",
       "       [0.93349232],\n",
       "       [0.93342596],\n",
       "       [0.92777109],\n",
       "       [0.91046366],\n",
       "       [0.90768599],\n",
       "       [0.9032927 ],\n",
       "       [0.89845681],\n",
       "       [0.90156642]])"
      ]
     },
     "execution_count": 59,
     "metadata": {},
     "output_type": "execute_result"
    }
   ],
   "source": [
    "ndf"
   ]
  },
  {
   "cell_type": "code",
   "execution_count": 60,
   "id": "4fe281d1-ba2c-4e98-ab94-e7582aa54e19",
   "metadata": {},
   "outputs": [
    {
     "data": {
      "text/plain": [
       "(62, 1)"
      ]
     },
     "execution_count": 60,
     "metadata": {},
     "output_type": "execute_result"
    }
   ],
   "source": [
    "ndf.shape"
   ]
  },
  {
   "cell_type": "code",
   "execution_count": 66,
   "id": "e5792d9e-7343-47d7-b250-5fb468e32a42",
   "metadata": {},
   "outputs": [],
   "source": [
    "f_date = date(2024,10,21)"
   ]
  },
  {
   "cell_type": "code",
   "execution_count": 67,
   "id": "f77365e0-0d22-4db5-93fe-513c2b35a1af",
   "metadata": {},
   "outputs": [],
   "source": [
    "iter = f_date-c_date\n",
    "iter = iter.days"
   ]
  },
  {
   "cell_type": "code",
   "execution_count": 68,
   "id": "d117e038-b3dd-49e4-91ac-d011e3f4d241",
   "metadata": {},
   "outputs": [
    {
     "name": "stdout",
     "output_type": "stream",
     "text": [
      "\u001b[1m1/1\u001b[0m \u001b[32m━━━━━━━━━━━━━━━━━━━━\u001b[0m\u001b[37m\u001b[0m \u001b[1m0s\u001b[0m 55ms/step\n",
      "\u001b[1m1/1\u001b[0m \u001b[32m━━━━━━━━━━━━━━━━━━━━\u001b[0m\u001b[37m\u001b[0m \u001b[1m0s\u001b[0m 48ms/step\n",
      "\u001b[1m1/1\u001b[0m \u001b[32m━━━━━━━━━━━━━━━━━━━━\u001b[0m\u001b[37m\u001b[0m \u001b[1m0s\u001b[0m 53ms/step\n"
     ]
    }
   ],
   "source": [
    "for i in range(iter):\n",
    "    newarr = ndf[-60:]\n",
    "    newarr = np.array(newarr)\n",
    "    newarr = newarr.reshape(1, 60, 1)\n",
    "    pred1 = model.predict(newarr)\n",
    "    ndf = np.append(ndf, pred1)\n",
    "    "
   ]
  },
  {
   "cell_type": "code",
   "execution_count": 69,
   "id": "93e12664-4271-42b7-a17a-02b517a88d7c",
   "metadata": {},
   "outputs": [
    {
     "name": "stdout",
     "output_type": "stream",
     "text": [
      "[[0.8760315]]\n"
     ]
    }
   ],
   "source": [
    "print(pred1)"
   ]
  },
  {
   "cell_type": "code",
   "execution_count": 70,
   "id": "d9ca9a32-2725-4c62-81b1-466d10887885",
   "metadata": {},
   "outputs": [
    {
     "name": "stdout",
     "output_type": "stream",
     "text": [
      "[[3993.6262]]\n"
     ]
    }
   ],
   "source": [
    "print(mm.inverse_transform(pred1))"
   ]
  },
  {
   "cell_type": "code",
   "execution_count": 71,
   "id": "e34cd932-1d39-4048-b0f3-12d38f9eff46",
   "metadata": {},
   "outputs": [
    {
     "data": {
      "text/plain": [
       "(None, 60, 1)"
      ]
     },
     "execution_count": 71,
     "metadata": {},
     "output_type": "execute_result"
    }
   ],
   "source": [
    "model.input_shape"
   ]
  },
  {
   "cell_type": "code",
   "execution_count": 34,
   "id": "bf43edd5-4e34-405e-b23f-1ed2ebdab76d",
   "metadata": {},
   "outputs": [],
   "source": [
    "model.save('packet.keras')\n"
   ]
  }
 ],
 "metadata": {
  "kernelspec": {
   "display_name": "Python 3 (ipykernel)",
   "language": "python",
   "name": "python3"
  },
  "language_info": {
   "codemirror_mode": {
    "name": "ipython",
    "version": 3
   },
   "file_extension": ".py",
   "mimetype": "text/x-python",
   "name": "python",
   "nbconvert_exporter": "python",
   "pygments_lexer": "ipython3",
   "version": "3.12.4"
  }
 },
 "nbformat": 4,
 "nbformat_minor": 5
}
